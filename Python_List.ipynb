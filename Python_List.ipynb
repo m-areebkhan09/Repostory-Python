{
  "nbformat": 4,
  "nbformat_minor": 0,
  "metadata": {
    "colab": {
      "provenance": [],
      "authorship_tag": "ABX9TyPisrtlouyxk4YvN9YaisOU",
      "include_colab_link": true
    },
    "kernelspec": {
      "name": "python3",
      "display_name": "Python 3"
    },
    "language_info": {
      "name": "python"
    }
  },
  "cells": [
    {
      "cell_type": "markdown",
      "metadata": {
        "id": "view-in-github",
        "colab_type": "text"
      },
      "source": [
        "<a href=\"https://colab.research.google.com/github/m-areebkhan09/Repostory-Python/blob/main/Python_List.ipynb\" target=\"_parent\"><img src=\"https://colab.research.google.com/assets/colab-badge.svg\" alt=\"Open In Colab\"/></a>"
      ]
    },
    {
      "cell_type": "markdown",
      "metadata": {
        "id": "S7DnF0LCDRzg"
      },
      "source": [
        "#**List**\n",
        "\n",
        "Lists are used to store multiple items in a single variable.\n",
        "\n",
        "List items are ordered, changable, allow duplicate values.\n",
        "\n",
        "List items can be of any data type."
      ]
    },
    {
      "cell_type": "code",
      "source": [
        "list = [\"python\", 5 , True, 1.9, \"C++\" ]\n",
        "print(list)\n",
        "print(type(list))"
      ],
      "metadata": {
        "colab": {
          "base_uri": "https://localhost:8080/"
        },
        "id": "xjyGjJd5C24o",
        "outputId": "3a3476ae-6738-4701-d74f-7fd2104b5be3"
      },
      "execution_count": 1,
      "outputs": [
        {
          "output_type": "stream",
          "name": "stdout",
          "text": [
            "['python', 5, True, 1.9, 'C++']\n",
            "<class 'list'>\n"
          ]
        }
      ]
    },
    {
      "cell_type": "markdown",
      "source": [],
      "metadata": {
        "id": "4HRprNu0DxpV"
      }
    },
    {
      "cell_type": "markdown",
      "metadata": {
        "id": "C2x8_VJ4Qc_Z"
      },
      "source": [
        "#**Access List Items**\n",
        "\n",
        "Since list items are indexed, they can be accessed by referring to their index number.\n",
        "\n",
        "We can also use negative indexing to refer to a list item.\n",
        "\n",
        "We can also specify a range to tell where to start and where to end. In that case, the output will be a new list having specified items.\n",
        "\n",
        "We can also specify negative indexes if we want to start the search from the end of the list\n"
      ]
    },
    {
      "cell_type": "code",
      "source": [
        "list = [\"python\", 5 , True, 1.9, \"C++\" ]\n",
        "print(list[2])\n",
        "\n",
        "#Using negative indexing\n",
        "#print(list[-2])\n",
        "\n",
        "#Using range of indexing/slicing\n",
        "#print(list[0:4:3])\n",
        "\n",
        "#Using negative indexing\n",
        "#print(list[-1:-4:-2])"
      ],
      "metadata": {
        "colab": {
          "base_uri": "https://localhost:8080/"
        },
        "id": "9LLxfvowD17g",
        "outputId": "4191cc4a-019f-486b-8836-707ce1a7e507"
      },
      "execution_count": 10,
      "outputs": [
        {
          "output_type": "stream",
          "name": "stdout",
          "text": [
            "True\n"
          ]
        }
      ]
    }
  ]
}